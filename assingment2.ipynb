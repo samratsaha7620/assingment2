{
 "cells": [
  {
   "cell_type": "markdown",
   "metadata": {},
   "source": [
    "# Write a Python Program to implement your own myreduce() function which works exactly like Python's built-in function reduce() "
   ]
  },
  {
   "cell_type": "code",
   "execution_count": 2,
   "metadata": {},
   "outputs": [
    {
     "name": "stdout",
     "output_type": "stream",
     "text": [
      "25\n",
      "25\n"
     ]
    }
   ],
   "source": [
    "def mysum(x,y) :\n",
    "    return x+y\n",
    "\n",
    "def myreduce(a,b) :\n",
    "    s = 0\n",
    "    if a == mysum :\n",
    "        if type(b) == list :\n",
    "            for i in range(len(b)) :\n",
    "                s = mysum(s,b[i])\n",
    "        elif type(b) == tuple :\n",
    "            for i in range(len(b)) :\n",
    "                s = mysum(s,b[i])\n",
    "    return s\n",
    "print(myreduce(mysum,(2,4,5,6,3,5)))\n",
    "print(myreduce(mysum,[2,4,5,6,3,5]))"
   ]
  },
  {
   "cell_type": "markdown",
   "metadata": {},
   "source": [
    "# Write a Python program to implement your own myfilter() function which works exactly like Python's built-in function filter() "
   ]
  },
  {
   "cell_type": "code",
   "execution_count": 4,
   "metadata": {},
   "outputs": [
    {
     "name": "stdout",
     "output_type": "stream",
     "text": [
      "[2, 4, 6, 8, 10, 12, 14]\n"
     ]
    }
   ],
   "source": [
    "m = []\n",
    "def even_check(x) :\n",
    "    if x%2 == 0 :\n",
    "        return True\n",
    "\n",
    "def myfilter(a,l) :\n",
    "    if a == even_check :\n",
    "        if type(l) == list :\n",
    "            for i in range(len(l)) :\n",
    "                if even_check(l[i]) == True :\n",
    "                    m. append(l[i])\n",
    "    return m\n",
    "print(myfilter(even_check,[1,2,3,4,5,6,7,8,9,10,11,12,13,14]))"
   ]
  },
  {
   "cell_type": "markdown",
   "metadata": {},
   "source": [
    "# Implement List comprehensions to produce the following lists. "
   ]
  },
  {
   "cell_type": "code",
   "execution_count": 1,
   "metadata": {},
   "outputs": [
    {
     "data": {
      "text/plain": [
       "['x', 'xx', 'xxx', 'xxxx', 'y', 'yy', 'yyy', 'yyyy', 'z', 'zz', 'zzz', 'zzzz']"
      ]
     },
     "execution_count": 1,
     "metadata": {},
     "output_type": "execute_result"
    }
   ],
   "source": [
    "[i*j for i in ['x','y','z'] for j in range(1,5)]"
   ]
  },
  {
   "cell_type": "code",
   "execution_count": 2,
   "metadata": {},
   "outputs": [
    {
     "data": {
      "text/plain": [
       "['x', 'y', 'z', 'xx', 'yy', 'zz', 'xx', 'yy', 'zz', 'xxxx', 'yyyy', 'zzzz']"
      ]
     },
     "execution_count": 2,
     "metadata": {},
     "output_type": "execute_result"
    }
   ],
   "source": [
    "[j*i for i in [1,2,2,4] for j in ['x','y','z']]"
   ]
  },
  {
   "cell_type": "code",
   "execution_count": 3,
   "metadata": {},
   "outputs": [
    {
     "data": {
      "text/plain": [
       "[[2], [3], [4], [3], [4], [5], [4], [5], [6]]"
      ]
     },
     "execution_count": 3,
     "metadata": {},
     "output_type": "execute_result"
    }
   ],
   "source": [
    "[[k] for i in range(2,5) for j in range(5,8) for k in range(i,j) if j-i == 3]"
   ]
  },
  {
   "cell_type": "code",
   "execution_count": 5,
   "metadata": {},
   "outputs": [
    {
     "data": {
      "text/plain": [
       "[[2, 3, 4, 5], [3, 4, 5, 6], [4, 5, 6, 7], [5, 6, 7, 8]]"
      ]
     },
     "execution_count": 5,
     "metadata": {},
     "output_type": "execute_result"
    }
   ],
   "source": [
    "[list(range(i,j)) for i in range(2,6) for j in range(6,10) if j-i == 4]"
   ]
  },
  {
   "cell_type": "code",
   "execution_count": 6,
   "metadata": {},
   "outputs": [
    {
     "data": {
      "text/plain": [
       "[(1, 1), (2, 1), (3, 1), (1, 2), (2, 2), (3, 2), (1, 3), (2, 3), (3, 3)]"
      ]
     },
     "execution_count": 6,
     "metadata": {},
     "output_type": "execute_result"
    }
   ],
   "source": [
    "[(j,i) for i in range(1,4) for j in range(1,4)] "
   ]
  },
  {
   "cell_type": "code",
   "execution_count": 7,
   "metadata": {},
   "outputs": [
    {
     "data": {
      "text/plain": [
       "['A', 'C', 'A', 'D', 'G', 'L', 'I', 'D']"
      ]
     },
     "execution_count": 7,
     "metadata": {},
     "output_type": "execute_result"
    }
   ],
   "source": [
    "[i for i in 'ACADGLID']"
   ]
  },
  {
   "cell_type": "markdown",
   "metadata": {},
   "source": [
    "# Implement a function longestWord() that takes a list of words and returns the longest one"
   ]
  },
  {
   "cell_type": "code",
   "execution_count": 32,
   "metadata": {},
   "outputs": [
    {
     "name": "stdout",
     "output_type": "stream",
     "text": [
      "hjfkkk\n"
     ]
    }
   ],
   "source": [
    "from functools import reduce\n",
    "max_find = lambda a,b : a if(len(a)>len(b)) else b\n",
    "def longestword(l) :\n",
    "    if type(l) == list :\n",
    "        return reduce(max_find,l)\n",
    "print(longestword(['samrat','hjfkkk','nll']))"
   ]
  },
  {
   "cell_type": "markdown",
   "metadata": {},
   "source": [
    "# Write a Python Program(with class concepts) to find the area of the triangle using the below formula. \n",
    " \n",
    "area = (s*(s-a)*(s-b)*(s-c)) ** 0.5 \n",
    " \n",
    "Function to take the length of the sides of triangle from user should be defined in the parent class and function to calculate the area should be defined in subclass. "
   ]
  },
  {
   "cell_type": "code",
   "execution_count": 1,
   "metadata": {},
   "outputs": [
    {
     "name": "stdout",
     "output_type": "stream",
     "text": [
      "59.81168364124187\n"
     ]
    }
   ],
   "source": [
    "class sides:\n",
    "\n",
    "    def __init__(self,first_side,second_side,third_side):\n",
    "        self.first_side = first_side\n",
    "        self.second_side = second_side\n",
    "        self.third_side = third_side\n",
    "        self.s = (first_side+second_side+third_side)/2\n",
    "\n",
    "class area_cal(sides):\n",
    "\n",
    "    def __init__(self,*args):\n",
    "        super(area_cal,self).__init__(*args)\n",
    "\n",
    "    def area(self):\n",
    "        return  (self.s*(self.s-self.first_side)*(self.s-self.second_side)*(self.s-self.third_side)) ** 0.5\n",
    "b = area_cal(12,10,15)\n",
    "print(b.area())\n"
   ]
  },
  {
   "cell_type": "markdown",
   "metadata": {},
   "source": [
    "# Write a function filter_long_words() that takes a list of words and an integer n and returns the list of words that are longer than n. "
   ]
  },
  {
   "cell_type": "code",
   "execution_count": 24,
   "metadata": {},
   "outputs": [
    {
     "name": "stdout",
     "output_type": "stream",
     "text": [
      "['samrat', 'fgkjbk']\n"
     ]
    }
   ],
   "source": [
    "m = []\n",
    "def filter_long_words(l,n) :\n",
    "    if type(l) == list :\n",
    "        for j in range(len(l)) :\n",
    "            if type(l[j]) == str :\n",
    "                if type(n) == int :\n",
    "                    if len(l[j]) > n :\n",
    "                        m . append(l[j])\n",
    "    return m\n",
    "\n",
    "print(filter_long_words(['sam','samrat','an','fgh','fgkjbk'],4))"
   ]
  },
  {
   "cell_type": "markdown",
   "metadata": {},
   "source": [
    "# Write a Python program using function concept that maps  list of words into a list of integers representing the lengths of the corresponding words"
   ]
  },
  {
   "cell_type": "code",
   "execution_count": 7,
   "metadata": {},
   "outputs": [
    {
     "name": "stdout",
     "output_type": "stream",
     "text": [
      "[3, 6, 5]\n"
     ]
    }
   ],
   "source": [
    "def len_word(n) :\n",
    "    if type(n) == str :\n",
    "        return len(n)\n",
    "l = ['sam','samrat','dgfh8']\n",
    "print(list(map(len_word,l)))"
   ]
  },
  {
   "cell_type": "markdown",
   "metadata": {},
   "source": [
    "# Write a Python function which takes a character (i.e. a string of length 1) and returns True if it is a vowel, False otherwise"
   ]
  },
  {
   "cell_type": "code",
   "execution_count": 26,
   "metadata": {},
   "outputs": [
    {
     "name": "stdout",
     "output_type": "stream",
     "text": [
      "False\n",
      "True\n"
     ]
    }
   ],
   "source": [
    "def vowel(character) :\n",
    "    l = ['a','e','i','o','u']\n",
    "    for i in range(len(l)) :\n",
    "        if l[i] == character :\n",
    "            return True\n",
    "        return False\n",
    "print(vowel('d'))\n",
    "print(vowel('a'))\n"
   ]
  },
  {
   "cell_type": "code",
   "execution_count": null,
   "metadata": {},
   "outputs": [],
   "source": []
  }
 ],
 "metadata": {
  "kernelspec": {
   "display_name": "Python 3",
   "language": "python",
   "name": "python3"
  },
  "language_info": {
   "codemirror_mode": {
    "name": "ipython",
    "version": 3
   },
   "file_extension": ".py",
   "mimetype": "text/x-python",
   "name": "python",
   "nbconvert_exporter": "python",
   "pygments_lexer": "ipython3",
   "version": "3.7.6"
  }
 },
 "nbformat": 4,
 "nbformat_minor": 4
}
